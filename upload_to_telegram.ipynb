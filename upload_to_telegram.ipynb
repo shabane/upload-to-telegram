{
  "nbformat": 4,
  "nbformat_minor": 0,
  "metadata": {
    "colab": {
      "name": "upload-to-telegram.ipynb",
      "provenance": []
    },
    "kernelspec": {
      "name": "python3",
      "display_name": "Python 3"
    },
    "language_info": {
      "name": "python"
    }
  },
  "cells": [
    {
      "cell_type": "code",
      "metadata": {
        "id": "RJUimJVVpsxO"
      },
      "source": [
        "import requests\n",
        "import os\n",
        "import time\n",
        "import random\n",
        "import logging\n",
        "\n",
        "# Configure logging\n",
        "logging.basicConfig(level=logging.INFO,\n",
        "                    format='%(asctime)s - %(levelname)s - %(message)s',\n",
        "                    filename='telegram_sender.log')\n",
        "\n",
        "# Optional: Also log to the console\n",
        "console_handler = logging.StreamHandler()\n",
        "console_handler.setLevel(logging.INFO)\n",
        "formatter = logging.Formatter('%(asctime)s - %(levelname)s - %(message)s')\n",
        "console_handler.setFormatter(formatter)\n",
        "logging.getLogger('').addHandler(console_handler)\n",
        "\n",
        "# Replace 'YOUR_BOT_TOKEN' with your actual bot token\n",
        "BOT_TOKEN = 'YOUR_BOT_TOKEN'\n",
        "# Replace 'YOUR_CHAT_ID' with the ID of the chat where you want to send the files\n",
        "CHAT_ID = 'YOUR_CHAT_ID'\n",
        "\n",
        "def send_with_retry(filename, chat_id, bot_token, max_retries=3):\n",
        "    \"\"\"Sends a file to Telegram with random wait and retry on failure.\"\"\"\n",
        "    url = f\"https://api.telegram.org/bot{bot_token}/sendDocument?chat_id={chat_id}\"\n",
        "    retries = 0\n",
        "    while retries < max_retries:\n",
        "        try:\n",
        "            logging.info(f\"Attempting to send {filename} (attempt {retries + 1}/{max_retries})...\")\n",
        "            with open(filename, 'rb') as file:\n",
        "                files = {\"document\": file}\n",
        "                res = requests.post(url, files=files)\n",
        "                res.raise_for_status()  # Raise an exception for bad status codes\n",
        "                logging.info(f\"Successfully sent {filename}\")\n",
        "                return True\n",
        "        except requests.exceptions.RequestException as e:\n",
        "            logging.error(f\"Failed to send {filename} (attempt {retries + 1}/{max_retries}): {e}\")\n",
        "            if retries < max_retries - 1:\n",
        "                wait_time = random.randint(5, 15)  # Wait between 5 to 15 seconds\n",
        "                logging.info(f\"Waiting for {wait_time} seconds before retrying for {wait_time} seconds...\")\n",
        "                time.sleep(wait_time)\n",
        "            retries += 1\n",
        "        except FileNotFoundError:\n",
        "            logging.error(f\"Error: File not found - {filename}\")\n",
        "            return False\n",
        "        except Exception as e:\n",
        "            logging.error(f\"An unexpected error occurred while sending {filename}: {e}\")\n",
        "            return False\n",
        "\n",
        "    logging.error(f\"Failed to send {filename} after {max_retries} attempts.\")\n",
        "    return False\n",
        "\n",
        "if __name__ == \"__main__\":\n",
        "    logging.info(\"Script started.\")\n",
        "    tmp = list(os.scandir('.'))\n",
        "    for item in tmp:\n",
        "        if item.is_file() and 'mp3' in item.name:\n",
        "            logging.info(f\"Found MP3 file: {item.name}\")\n",
        "            send_with_retry(item.name, CHAT_ID, BOT_TOKEN)\n",
        "    logging.info(\"Script finished.\")"
      ],
      "execution_count": null,
      "outputs": []
    }
  ]
}