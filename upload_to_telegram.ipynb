{
  "nbformat": 4,
  "nbformat_minor": 0,
  "metadata": {
    "colab": {
      "name": "upload-to-telegram.ipynb",
      "provenance": [],
      "collapsed_sections": []
    },
    "kernelspec": {
      "name": "python3",
      "display_name": "Python 3"
    },
    "language_info": {
      "name": "python"
    }
  },
  "cells": [
    {
      "cell_type": "code",
      "metadata": {
        "id": "RJUimJVVpsxO"
      },
      "source": [
        "import requests\n",
        "\n",
        "import os\n",
        "\n",
        "tmp = list(os.scandir('.'))\n",
        "for i in tmp:\n",
        "  if 'mp3' in i.name:\n",
        "      file ={\"document\": open(f'{i.name}', 'rb')}\n",
        "      res = requests.post(\"https://api.telegram.org/bot<your_token>/sendDocument?chat_id=<chat_id>\", files=file)\n",
        "      print(res.content)"
      ],
      "execution_count": null,
      "outputs": []
    }
  ]
}